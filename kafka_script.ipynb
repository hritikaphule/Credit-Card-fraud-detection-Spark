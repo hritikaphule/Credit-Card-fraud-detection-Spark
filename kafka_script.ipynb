{
 "cells": [
  {
   "cell_type": "code",
   "execution_count": 1,
   "metadata": {},
   "outputs": [
    {
     "name": "stdout",
     "output_type": "stream",
     "text": [
      "Collecting kafka-python\n",
      "  Downloading kafka_python-2.0.2-py2.py3-none-any.whl (246 kB)\n",
      "                                              0.0/246.5 kB ? eta -:--:--\n",
      "     ------------------                     122.9/246.5 kB 3.6 MB/s eta 0:00:01\n",
      "     -------------------------------------- 246.5/246.5 kB 3.0 MB/s eta 0:00:00\n",
      "Installing collected packages: kafka-python\n",
      "Successfully installed kafka-python-2.0.2\n",
      "Note: you may need to restart the kernel to use updated packages.\n"
     ]
    },
    {
     "name": "stderr",
     "output_type": "stream",
     "text": [
      "\n",
      "[notice] A new release of pip is available: 23.1.2 -> 24.0\n",
      "[notice] To update, run: python.exe -m pip install --upgrade pip\n"
     ]
    }
   ],
   "source": [
    "pip install kafka-python"
   ]
  },
  {
   "cell_type": "code",
   "execution_count": 2,
   "metadata": {},
   "outputs": [
    {
     "data": {
      "text/plain": [
       "CreateTopicsResponse_v3(throttle_time_ms=0, topic_errors=[(topic='example_topic', error_code=0, error_message=None)])"
      ]
     },
     "execution_count": 2,
     "metadata": {},
     "output_type": "execute_result"
    }
   ],
   "source": [
    "from kafka.admin import KafkaAdminClient, NewTopic\n",
    "from kafka.errors import TopicAlreadyExistsError\n",
    "\n",
    "# Kafka broker settings\n",
    "bootstrap_servers = 'localhost:9092'\n",
    "\n",
    "admin_client = KafkaAdminClient(\n",
    "    bootstrap_servers=bootstrap_servers, \n",
    "    client_id='test'\n",
    ")\n",
    "\n",
    "topic_list = []\n",
    "topic_list.append(NewTopic(name=\"example_topic\", num_partitions=1, replication_factor=1))\n",
    "admin_client.create_topics(new_topics=topic_list, validate_only=False)"
   ]
  },
  {
   "cell_type": "markdown",
   "metadata": {},
   "source": [
    "Createa a new topic"
   ]
  },
  {
   "cell_type": "code",
   "execution_count": 3,
   "metadata": {},
   "outputs": [
    {
     "name": "stdout",
     "output_type": "stream",
     "text": [
      "Topic 'transaction_data' created successfully.\n"
     ]
    }
   ],
   "source": [
    "# Define topic configuration\n",
    "topic_name = 'transaction_data'\n",
    "partitions = 1\n",
    "replication_factor = 1\n",
    "\n",
    "# Define the topic\n",
    "topic = NewTopic(name=topic_name, num_partitions=partitions, replication_factor=replication_factor)\n",
    "\n",
    "# Create the topic\n",
    "try:\n",
    "    admin_client.create_topics(new_topics=[topic], validate_only=False)\n",
    "    print(f\"Topic '{topic_name}' created successfully.\")\n",
    "except TopicAlreadyExistsError:\n",
    "    print(f\"Topic '{topic_name}' already exists.\")\n"
   ]
  },
  {
   "cell_type": "markdown",
   "metadata": {},
   "source": [
    "Insert Message"
   ]
  },
  {
   "cell_type": "code",
   "execution_count": 11,
   "metadata": {},
   "outputs": [],
   "source": [
    "from kafka import KafkaProducer\n",
    "import json\n",
    "import threading\n",
    "\n",
    "# Kafka broker settings\n",
    "bootstrap_servers = 'localhost:9092'\n",
    "\n",
    "# Kafka topic\n",
    "topic_name = 'transaction_data'\n",
    "\n",
    "# Number of messages to insert\n",
    "num_messages = 1000\n",
    "\n",
    "# Message payload\n",
    "messages = [{\"key\": f\"key_{i}\", \"value\": f\"value_{i}\"} for i in range(num_messages)]\n",
    "\n",
    "# Create Kafka producer\n",
    "producer = KafkaProducer(bootstrap_servers=bootstrap_servers, value_serializer=lambda x: json.dumps(x).encode('utf-8'))\n",
    "\n",
    "# Function to produce messages\n",
    "def produce_message(message):\n",
    "    producer.send(topic_name, message)\n",
    "\n",
    "# Use threading for concurrent message production\n",
    "threads = []\n",
    "for message in messages:\n",
    "    thread = threading.Thread(target=produce_message, args=(message,))\n",
    "    threads.append(thread)\n",
    "    thread.start()\n",
    "\n",
    "# Wait for all threads to finish\n",
    "for thread in threads:\n",
    "    thread.join()\n",
    "\n",
    "# Flush and close the producer\n",
    "producer.flush()\n",
    "producer.close()\n"
   ]
  },
  {
   "cell_type": "code",
   "execution_count": null,
   "metadata": {},
   "outputs": [],
   "source": []
  }
 ],
 "metadata": {
  "kernelspec": {
   "display_name": "venv",
   "language": "python",
   "name": "python3"
  },
  "language_info": {
   "codemirror_mode": {
    "name": "ipython",
    "version": 3
   },
   "file_extension": ".py",
   "mimetype": "text/x-python",
   "name": "python",
   "nbconvert_exporter": "python",
   "pygments_lexer": "ipython3",
   "version": "3.11.4"
  }
 },
 "nbformat": 4,
 "nbformat_minor": 2
}
